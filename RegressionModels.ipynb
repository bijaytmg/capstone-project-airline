{
 "cells": [
  {
   "cell_type": "code",
   "execution_count": 579,
   "metadata": {},
   "outputs": [],
   "source": [
    "import pandas as pd\n",
    "from pandas import DataFrame\n",
    "from sklearn import linear_model\n",
    "import statsmodels.api as sm\n",
    "import tkinter as tk \n",
    "import matplotlib.pyplot as plt\n",
    "from sklearn.metrics import mean_squared_error, r2_score"
   ]
  },
  {
   "cell_type": "markdown",
   "metadata": {},
   "source": [
    "## Load Dataset"
   ]
  },
  {
   "cell_type": "code",
   "execution_count": 580,
   "metadata": {},
   "outputs": [
    {
     "name": "stdout",
     "output_type": "stream",
     "text": [
      "      DaystoDepart  RoundTrip  SeatClass  Time     Price\n",
      "0                0          0          0     0  0.310573\n",
      "1                0          0          0     1  0.310573\n",
      "2                0          0          0     2  0.310573\n",
      "3                0          1          0     0  0.592511\n",
      "4                0          1          0     1  0.592511\n",
      "5                0          1          0     2  0.592511\n",
      "6                0          0          1     0  0.458150\n",
      "7                0          0          1     1  0.458150\n",
      "8                0          0          1     2  0.458150\n",
      "9                0          1          1     0  0.953744\n",
      "10               0          1          1     1  0.931718\n",
      "11               0          1          1     2  0.953744\n",
      "12               0          0          2     0  0.458150\n",
      "13               0          0          2     1  0.458150\n",
      "14               0          0          2     2  0.458150\n",
      "15               0          1          2     0  0.953744\n",
      "16               0          1          2     1  0.953744\n",
      "17               0          1          2     2  0.953744\n",
      "18               1          0          0     0  0.310573\n",
      "19               1          0          0     1  0.310573\n",
      "20               1          0          0     2  0.310573\n",
      "21               1          1          0     0  0.592511\n",
      "22               1          1          0     1  0.592511\n",
      "23               1          1          0     2  0.592511\n",
      "24               1          0          1     0  0.458150\n",
      "25               1          0          1     1  0.458150\n",
      "26               1          0          1     2  0.458150\n",
      "27               1          1          1     0  0.931718\n",
      "28               1          1          1     1  0.931718\n",
      "29               1          1          1     2  0.931718\n",
      "...            ...        ...        ...   ...       ...\n",
      "3228           179          0          1     0  0.179515\n",
      "3229           179          0          1     1  0.179515\n",
      "3230           179          0          1     2  0.179515\n",
      "3231           179          1          1     0  0.567181\n",
      "3232           179          1          1     1  0.567181\n",
      "3233           179          1          1     2  0.567181\n",
      "3234           179          0          2     0  0.179515\n",
      "3235           179          0          2     1  0.179515\n",
      "3236           179          0          2     2  0.179515\n",
      "3237           179          1          2     0  0.567181\n",
      "3238           179          1          2     1  0.567181\n",
      "3239           179          1          2     2  0.567181\n",
      "3240           180          0          0     0  0.002203\n",
      "3241           180          0          0     1  0.002203\n",
      "3242           180          0          0     2  0.002203\n",
      "3243           180          1          0     0  0.101322\n",
      "3244           180          1          0     1  0.026432\n",
      "3245           180          1          0     2  0.026432\n",
      "3246           180          0          1     0  0.179515\n",
      "3247           180          0          1     1  0.179515\n",
      "3248           180          0          1     2  0.179515\n",
      "3249           180          1          1     0  0.486784\n",
      "3250           180          1          1     1  0.526432\n",
      "3251           180          1          1     2  0.416300\n",
      "3252           180          0          2     0  0.179515\n",
      "3253           180          0          2     1  0.179515\n",
      "3254           180          0          2     2  0.179515\n",
      "3255           180          1          2     0  0.486784\n",
      "3256           180          1          2     1  0.416300\n",
      "3257           180          1          2     2  0.416300\n",
      "\n",
      "[3258 rows x 5 columns]\n"
     ]
    }
   ],
   "source": [
    "directory = '/Users/The Pock Family/Desktop/Test/'\n",
    "df = pd.read_csv(directory+'atl_to_dtw_norm.csv', header=0)\n",
    "\n",
    "df = pd.DataFrame(df,columns=['DaystoDepart','RoundTrip','SeatClass','Time','Price'])\n",
    "\n",
    "print (df)"
   ]
  },
  {
   "cell_type": "code",
   "execution_count": 581,
   "metadata": {},
   "outputs": [
    {
     "data": {
      "image/png": "[encoded data removed]",
      "text/plain": [
       "<Figure size 432x288 with 1 Axes>"
      ]
     },
     "metadata": {
      "needs_background": "light"
     },
     "output_type": "display_data"
    }
   ],
   "source": [
    "plt.scatter(df['DaystoDepart'], df['Price'], color='red')\n",
    "plt.title('Price Vs Days to Departure', fontsize=14)\n",
    "plt.xlabel('Days to Departure', fontsize=14)\n",
    "plt.ylabel('Price', fontsize=14)\n",
    "plt.grid(True)\n",
    "plt.show()"
   ]
  },
  {
   "cell_type": "code",
   "execution_count": 582,
   "metadata": {},
   "outputs": [
    {
     "data": {
      "text/html": [
       "<div>\n",
       "<style scoped>\n",
       "    .dataframe tbody tr th:only-of-type {\n",
       "        vertical-align: middle;\n",
       "    }\n",
       "\n",
       "    .dataframe tbody tr th {\n",
       "        vertical-align: top;\n",
       "    }\n",
       "\n",
       "    .dataframe thead th {\n",
       "        text-align: right;\n",
       "    }\n",
       "</style>\n",
       "<table border=\"1\" class=\"dataframe\">\n",
       "  <thead>\n",
       "    <tr style=\"text-align: right;\">\n",
       "      <th></th>\n",
       "      <th>DaystoDepart</th>\n",
       "      <th>RoundTrip</th>\n",
       "      <th>SeatClass</th>\n",
       "      <th>Time</th>\n",
       "      <th>Price</th>\n",
       "    </tr>\n",
       "  </thead>\n",
       "  <tbody>\n",
       "    <tr>\n",
       "      <th>count</th>\n",
       "      <td>3258.000000</td>\n",
       "      <td>3258.000000</td>\n",
       "      <td>3258.000000</td>\n",
       "      <td>3258.000000</td>\n",
       "      <td>3258.000000</td>\n",
       "    </tr>\n",
       "    <tr>\n",
       "      <th>mean</th>\n",
       "      <td>90.000000</td>\n",
       "      <td>0.500000</td>\n",
       "      <td>1.000000</td>\n",
       "      <td>1.000000</td>\n",
       "      <td>0.282819</td>\n",
       "    </tr>\n",
       "    <tr>\n",
       "      <th>std</th>\n",
       "      <td>52.257422</td>\n",
       "      <td>0.500077</td>\n",
       "      <td>0.816622</td>\n",
       "      <td>0.816622</td>\n",
       "      <td>0.212425</td>\n",
       "    </tr>\n",
       "    <tr>\n",
       "      <th>min</th>\n",
       "      <td>0.000000</td>\n",
       "      <td>0.000000</td>\n",
       "      <td>0.000000</td>\n",
       "      <td>0.000000</td>\n",
       "      <td>0.000000</td>\n",
       "    </tr>\n",
       "    <tr>\n",
       "      <th>25%</th>\n",
       "      <td>45.000000</td>\n",
       "      <td>0.000000</td>\n",
       "      <td>0.000000</td>\n",
       "      <td>0.000000</td>\n",
       "      <td>0.090308</td>\n",
       "    </tr>\n",
       "    <tr>\n",
       "      <th>50%</th>\n",
       "      <td>90.000000</td>\n",
       "      <td>0.500000</td>\n",
       "      <td>1.000000</td>\n",
       "      <td>1.000000</td>\n",
       "      <td>0.237885</td>\n",
       "    </tr>\n",
       "    <tr>\n",
       "      <th>75%</th>\n",
       "      <td>135.000000</td>\n",
       "      <td>1.000000</td>\n",
       "      <td>2.000000</td>\n",
       "      <td>2.000000</td>\n",
       "      <td>0.451542</td>\n",
       "    </tr>\n",
       "    <tr>\n",
       "      <th>max</th>\n",
       "      <td>180.000000</td>\n",
       "      <td>1.000000</td>\n",
       "      <td>2.000000</td>\n",
       "      <td>2.000000</td>\n",
       "      <td>1.000000</td>\n",
       "    </tr>\n",
       "  </tbody>\n",
       "</table>\n",
       "</div>"
      ],
      "text/plain": [
       "       DaystoDepart    RoundTrip    SeatClass         Time        Price\n",
       "count   3258.000000  3258.000000  3258.000000  3258.000000  3258.000000\n",
       "mean      90.000000     0.500000     1.000000     1.000000     0.282819\n",
       "std       52.257422     0.500077     0.816622     0.816622     0.212425\n",
       "min        0.000000     0.000000     0.000000     0.000000     0.000000\n",
       "25%       45.000000     0.000000     0.000000     0.000000     0.090308\n",
       "50%       90.000000     0.500000     1.000000     1.000000     0.237885\n",
       "75%      135.000000     1.000000     2.000000     2.000000     0.451542\n",
       "max      180.000000     1.000000     2.000000     2.000000     1.000000"
      ]
     },
     "execution_count": 582,
     "metadata": {},
     "output_type": "execute_result"
    }
   ],
   "source": [
    "df.describe()"
   ]
  },
  {
   "cell_type": "code",
   "execution_count": 583,
   "metadata": {},
   "outputs": [
    {
     "data": {
      "text/html": [
       "<div>\n",
       "<style scoped>\n",
       "    .dataframe tbody tr th:only-of-type {\n",
       "        vertical-align: middle;\n",
       "    }\n",
       "\n",
       "    .dataframe tbody tr th {\n",
       "        vertical-align: top;\n",
       "    }\n",
       "\n",
       "    .dataframe thead th {\n",
       "        text-align: right;\n",
       "    }\n",
       "</style>\n",
       "<table border=\"1\" class=\"dataframe\">\n",
       "  <thead>\n",
       "    <tr style=\"text-align: right;\">\n",
       "      <th></th>\n",
       "      <th>DaystoDepart</th>\n",
       "      <th>RoundTrip</th>\n",
       "      <th>SeatClass</th>\n",
       "      <th>Time</th>\n",
       "      <th>Price</th>\n",
       "    </tr>\n",
       "  </thead>\n",
       "  <tbody>\n",
       "    <tr>\n",
       "      <th>DaystoDepart</th>\n",
       "      <td>1.000000</td>\n",
       "      <td>0.000000</td>\n",
       "      <td>0.00000</td>\n",
       "      <td>0.000000</td>\n",
       "      <td>-0.172162</td>\n",
       "    </tr>\n",
       "    <tr>\n",
       "      <th>RoundTrip</th>\n",
       "      <td>0.000000</td>\n",
       "      <td>1.000000</td>\n",
       "      <td>0.00000</td>\n",
       "      <td>0.000000</td>\n",
       "      <td>0.524902</td>\n",
       "    </tr>\n",
       "    <tr>\n",
       "      <th>SeatClass</th>\n",
       "      <td>0.000000</td>\n",
       "      <td>0.000000</td>\n",
       "      <td>1.00000</td>\n",
       "      <td>0.000000</td>\n",
       "      <td>0.602650</td>\n",
       "    </tr>\n",
       "    <tr>\n",
       "      <th>Time</th>\n",
       "      <td>0.000000</td>\n",
       "      <td>0.000000</td>\n",
       "      <td>0.00000</td>\n",
       "      <td>1.000000</td>\n",
       "      <td>-0.006329</td>\n",
       "    </tr>\n",
       "    <tr>\n",
       "      <th>Price</th>\n",
       "      <td>-0.172162</td>\n",
       "      <td>0.524902</td>\n",
       "      <td>0.60265</td>\n",
       "      <td>-0.006329</td>\n",
       "      <td>1.000000</td>\n",
       "    </tr>\n",
       "  </tbody>\n",
       "</table>\n",
       "</div>"
      ],
      "text/plain": [
       "              DaystoDepart  RoundTrip  SeatClass      Time     Price\n",
       "DaystoDepart      1.000000   0.000000    0.00000  0.000000 -0.172162\n",
       "RoundTrip         0.000000   1.000000    0.00000  0.000000  0.524902\n",
       "SeatClass         0.000000   0.000000    1.00000  0.000000  0.602650\n",
       "Time              0.000000   0.000000    0.00000  1.000000 -0.006329\n",
       "Price            -0.172162   0.524902    0.60265 -0.006329  1.000000"
      ]
     },
     "execution_count": 583,
     "metadata": {},
     "output_type": "execute_result"
    }
   ],
   "source": [
    "df.corr()"
   ]
  },
  {
   "cell_type": "code",
   "execution_count": 584,
   "metadata": {},
   "outputs": [],
   "source": [
    "X = df[['RoundTrip','SeatClass','Time','Price']] \n",
    "Y = df['DaystoDepart']\n"
   ]
  },
  {
   "cell_type": "markdown",
   "metadata": {},
   "source": [
    "## Split Data into training and test datasets"
   ]
  },
  {
   "cell_type": "code",
   "execution_count": 585,
   "metadata": {},
   "outputs": [],
   "source": [
    "# Modify Test Size\n",
    "from sklearn.model_selection import train_test_split\n",
    "X_train, X_test, y_train, y_test =train_test_split(X,Y,test_size=.3,random_state=0)"
   ]
  },
  {
   "cell_type": "code",
   "execution_count": 586,
   "metadata": {},
   "outputs": [
    {
     "name": "stdout",
     "output_type": "stream",
     "text": [
      "(2280, 4) (2280,)\n",
      "(978, 4) (978,)\n"
     ]
    }
   ],
   "source": [
    "# Check size of training and test datasets\n",
    "print(X_train.shape, y_train.shape)\n",
    "print(X_test.shape, y_test.shape)"
   ]
  },
  {
   "cell_type": "markdown",
   "metadata": {},
   "source": [
    "## Set Variables to make prediction"
   ]
  },
  {
   "cell_type": "code",
   "execution_count": 587,
   "metadata": {},
   "outputs": [],
   "source": [
    "X_test = [[0,0,0,0]] # [RoundTrip(0-False, 1-True),SeatClass(0-Economy, 1-Business, 2-FirstClass),Time(0-Morning, 1-Afternoon, 2-Evening),Price (0-Cheapest, 1-Most Expensive)]] "
   ]
  },
  {
   "cell_type": "markdown",
   "metadata": {},
   "source": [
    "## Linear Regression"
   ]
  },
  {
   "cell_type": "code",
   "execution_count": 588,
   "metadata": {},
   "outputs": [],
   "source": [
    "from sklearn.linear_model import LinearRegression\n",
    "lm = LinearRegression()\n",
    "\n",
    "model=lm.fit(X_train,y_train)\n",
    "\n"
   ]
  },
  {
   "cell_type": "code",
   "execution_count": 589,
   "metadata": {},
   "outputs": [
    {
     "name": "stdout",
     "output_type": "stream",
     "text": [
      "Days in Advance to Book: \n",
      " [89.64685079]\n"
     ]
    }
   ],
   "source": [
    "# Predict using test dataset\n",
    "\n",
    "predictions_test = lm.predict(X_test)\n",
    "print ('Days in Advance to Book: \\n', predictions_test)\n"
   ]
  },
  {
   "cell_type": "code",
   "execution_count": 590,
   "metadata": {},
   "outputs": [
    {
     "name": "stdout",
     "output_type": "stream",
     "text": [
      "Accuracy Score: \n",
      " 8.28538496917508 %\n"
     ]
    }
   ],
   "source": [
    "scorelm=lm.score(X_train,y_train)\n",
    "print ('Accuracy Score: \\n', scorelm*100,'%')"
   ]
  },
  {
   "cell_type": "markdown",
   "metadata": {},
   "source": [
    "## Decision Tree Regression"
   ]
  },
  {
   "cell_type": "code",
   "execution_count": 591,
   "metadata": {},
   "outputs": [],
   "source": [
    "from sklearn.tree import DecisionTreeRegressor\n",
    "tree_reg = DecisionTreeRegressor(random_state=40)\n",
    "tree_reg.fit(X_train,y_train)\n",
    "tree_train = tree_reg.predict(X_train)\n",
    "tree_test = tree_reg.predict(X_test)"
   ]
  },
  {
   "cell_type": "code",
   "execution_count": 592,
   "metadata": {},
   "outputs": [
    {
     "name": "stdout",
     "output_type": "stream",
     "text": [
      "Predictions (Training Dataset): \n",
      " [  5.          25.         100.625       96.82432432   3.5       ]\n"
     ]
    }
   ],
   "source": [
    "print('Predictions (Training Dataset): \\n', tree_train[0:5])"
   ]
  },
  {
   "cell_type": "code",
   "execution_count": 593,
   "metadata": {},
   "outputs": [
    {
     "name": "stdout",
     "output_type": "stream",
     "text": [
      "Days in Advance to Book: \n",
      " [120.]\n"
     ]
    }
   ],
   "source": [
    "print('Days in Advance to Book: \\n', tree_test)"
   ]
  },
  {
   "cell_type": "code",
   "execution_count": 594,
   "metadata": {},
   "outputs": [
    {
     "name": "stdout",
     "output_type": "stream",
     "text": [
      "Accuracy Score: \n",
      " 51.13100731200425 %\n"
     ]
    }
   ],
   "source": [
    "scoretr=tree_reg.score(X_train,y_train)\n",
    "print ('Accuracy Score: \\n', scoretr*100,'%')"
   ]
  },
  {
   "cell_type": "markdown",
   "metadata": {},
   "source": [
    "## Polynomial Regression\n"
   ]
  },
  {
   "cell_type": "code",
   "execution_count": 595,
   "metadata": {},
   "outputs": [],
   "source": [
    "from sklearn.preprocessing import PolynomialFeatures\n",
    "from sklearn import linear_model\n",
    "poly1 = PolynomialFeatures(degree=2)\n",
    "X_ = poly1.fit_transform(X_train)\n",
    "X_test_ = poly1.fit_transform(X_test)"
   ]
  },
  {
   "cell_type": "code",
   "execution_count": 596,
   "metadata": {},
   "outputs": [
    {
     "data": {
      "text/plain": [
       "LinearRegression(copy_X=True, fit_intercept=True, n_jobs=None,\n",
       "         normalize=False)"
      ]
     },
     "execution_count": 596,
     "metadata": {},
     "output_type": "execute_result"
    }
   ],
   "source": [
    "# Instantiate\n",
    "poly = LinearRegression()\n",
    "# Fit\n",
    "poly.fit(X_, y_train)"
   ]
  },
  {
   "cell_type": "code",
   "execution_count": 597,
   "metadata": {},
   "outputs": [
    {
     "name": "stdout",
     "output_type": "stream",
     "text": [
      "Predictions (Training Data): \n",
      " [ 37.81242911  89.35807575 105.93666273 ... 102.3120008   65.42160756\n",
      "  95.62080788]\n"
     ]
    }
   ],
   "source": [
    "polytrain=poly.predict(X_)\n",
    "print('Predictions (Training Data): \\n', polytrain)"
   ]
  },
  {
   "cell_type": "code",
   "execution_count": 598,
   "metadata": {},
   "outputs": [
    {
     "name": "stdout",
     "output_type": "stream",
     "text": [
      "Days in Advance to Book: \n",
      " [102.70492586]\n"
     ]
    }
   ],
   "source": [
    "# Predict\n",
    "polyresults=poly.predict(X_test_)\n",
    "print('Days in Advance to Book: \\n', polyresults)"
   ]
  },
  {
   "cell_type": "code",
   "execution_count": 599,
   "metadata": {},
   "outputs": [
    {
     "name": "stdout",
     "output_type": "stream",
     "text": [
      "Accuracy Score: \n",
      " 20.12680311843874 %\n"
     ]
    }
   ],
   "source": [
    "scorepr = poly.score(X_, y_train)\n",
    "print('Accuracy Score: \\n',scorepr*100,'%')"
   ]
  },
  {
   "cell_type": "markdown",
   "metadata": {},
   "source": [
    "## Neural Network Regression"
   ]
  },
  {
   "cell_type": "code",
   "execution_count": 600,
   "metadata": {},
   "outputs": [
    {
     "name": "stderr",
     "output_type": "stream",
     "text": [
      "C:\\Users\\The Pock Family\\Anaconda3\\lib\\site-packages\\sklearn\\neural_network\\multilayer_perceptron.py:562: ConvergenceWarning: Stochastic Optimizer: Maximum iterations (200) reached and the optimization hasn't converged yet.\n",
      "  % self.max_iter, ConvergenceWarning)\n"
     ]
    },
    {
     "data": {
      "text/plain": [
       "MLPClassifier(activation='relu', alpha=0.0001, batch_size='auto', beta_1=0.9,\n",
       "       beta_2=0.999, early_stopping=False, epsilon=1e-08,\n",
       "       hidden_layer_sizes=(30, 30, 30), learning_rate='constant',\n",
       "       learning_rate_init=0.001, max_iter=200, momentum=0.9,\n",
       "       n_iter_no_change=10, nesterovs_momentum=True, power_t=0.5,\n",
       "       random_state=None, shuffle=True, solver='adam', tol=0.0001,\n",
       "       validation_fraction=0.1, verbose=False, warm_start=False)"
      ]
     },
     "execution_count": 600,
     "metadata": {},
     "output_type": "execute_result"
    }
   ],
   "source": [
    "from sklearn.neural_network import MLPClassifier  \n",
    "mlp = MLPClassifier(hidden_layer_sizes=(30,30,30)) \n",
    "mlp.fit(X_train,y_train)"
   ]
  },
  {
   "cell_type": "code",
   "execution_count": 601,
   "metadata": {},
   "outputs": [],
   "source": [
    "predictions = mlp.predict(X_test)"
   ]
  },
  {
   "cell_type": "code",
   "execution_count": 602,
   "metadata": {},
   "outputs": [
    {
     "ename": "SyntaxError",
     "evalue": "invalid syntax (<ipython-input-602-fc64503ad327>, line 1)",
     "output_type": "error",
     "traceback": [
      "\u001b[1;36m  File \u001b[1;32m\"<ipython-input-602-fc64503ad327>\"\u001b[1;36m, line \u001b[1;32m1\u001b[0m\n\u001b[1;33m    rom sklearn.metrics import classification_report, confusion_matrix\u001b[0m\n\u001b[1;37m              ^\u001b[0m\n\u001b[1;31mSyntaxError\u001b[0m\u001b[1;31m:\u001b[0m invalid syntax\n"
     ]
    }
   ],
   "source": [
    "rom sklearn.metrics import classification_report, confusion_matrix  \n",
    "print(confusion_matrix(y_test,predictions))  \n",
    "print(classification_report(y_test,predictions))"
   ]
  },
  {
   "cell_type": "markdown",
   "metadata": {},
   "source": [
    "## Random Forest Regression\n"
   ]
  },
  {
   "cell_type": "code",
   "execution_count": 603,
   "metadata": {},
   "outputs": [],
   "source": [
    "from sklearn.ensemble import RandomForestRegressor\n",
    "\n",
    "forest_reg = RandomForestRegressor(n_estimators=10, random_state=42)\n",
    "forest_reg.fit(X_train, y_train)\n",
    "\n",
    "forest_train = forest_reg.predict(X_train)\n",
    "forest_test = forest_reg.predict(X_test)"
   ]
  },
  {
   "cell_type": "code",
   "execution_count": 604,
   "metadata": {},
   "outputs": [
    {
     "name": "stdout",
     "output_type": "stream",
     "text": [
      "Predictions (Training Dataset): \n",
      " [ 4.16       24.76547619 88.99012987 97.70310647  3.43333333]\n"
     ]
    }
   ],
   "source": [
    "print('Predictions (Training Dataset): \\n', forest_train[0:5])"
   ]
  },
  {
   "cell_type": "code",
   "execution_count": 605,
   "metadata": {},
   "outputs": [
    {
     "name": "stdout",
     "output_type": "stream",
     "text": [
      "Days in Advance to Book: \n",
      " [109.56987879]\n"
     ]
    }
   ],
   "source": [
    "print('Days in Advance to Book: \\n', forest_test)"
   ]
  },
  {
   "cell_type": "code",
   "execution_count": 606,
   "metadata": {},
   "outputs": [
    {
     "name": "stdout",
     "output_type": "stream",
     "text": [
      "Accuracy Score: \n",
      " 49.842516240354854 %\n"
     ]
    }
   ],
   "source": [
    "scoretr=forest_reg.score(X_train,y_train)\n",
    "print ('Accuracy Score: \\n', scoretr*100,'%')"
   ]
  },
  {
   "cell_type": "markdown",
   "metadata": {},
   "source": [
    "## Support Vector Regression\n"
   ]
  },
  {
   "cell_type": "code",
   "execution_count": 607,
   "metadata": {},
   "outputs": [],
   "source": [
    "from sklearn.svm import SVR \n",
    "svrmodel = SVR()"
   ]
  },
  {
   "cell_type": "code",
   "execution_count": 608,
   "metadata": {},
   "outputs": [
    {
     "name": "stderr",
     "output_type": "stream",
     "text": [
      "C:\\Users\\The Pock Family\\Anaconda3\\lib\\site-packages\\sklearn\\svm\\base.py:196: FutureWarning: The default value of gamma will change from 'auto' to 'scale' in version 0.22 to account better for unscaled features. Set gamma explicitly to 'auto' or 'scale' to avoid this warning.\n",
      "  \"avoid this warning.\", FutureWarning)\n"
     ]
    }
   ],
   "source": [
    "svrmodel.fit(X_train,y_train)\n",
    "svr_train =svrmodel.predict(X_train)\n",
    "svr_test = svrmodel.predict(X_test)"
   ]
  },
  {
   "cell_type": "code",
   "execution_count": 609,
   "metadata": {},
   "outputs": [
    {
     "name": "stdout",
     "output_type": "stream",
     "text": [
      "Predictions (Training Dataset): \n",
      " [91.77897693 88.24148168 93.80984952 91.47366539 83.44923843]\n"
     ]
    }
   ],
   "source": [
    "print('Predictions (Training Dataset): \\n', svr_train[0:5])"
   ]
  },
  {
   "cell_type": "code",
   "execution_count": 610,
   "metadata": {},
   "outputs": [
    {
     "name": "stdout",
     "output_type": "stream",
     "text": [
      "Days in Advance to Book: \n",
      " [88.12113292]\n"
     ]
    }
   ],
   "source": [
    "print('Days in Advance to Book: \\n', svr_test)"
   ]
  },
  {
   "cell_type": "code",
   "execution_count": 611,
   "metadata": {},
   "outputs": [
    {
     "name": "stdout",
     "output_type": "stream",
     "text": [
      "Accuracy Score: \n",
      " 1.6213889864881703 %\n"
     ]
    }
   ],
   "source": [
    "svrscore=svrmodel.score(X_train,y_train)\n",
    "print ('Accuracy Score: \\n', svrscore*100,'%')"
   ]
  },
  {
   "cell_type": "markdown",
   "metadata": {},
   "source": [
    "## K Nearest Neighbor Regression\n"
   ]
  },
  {
   "cell_type": "code",
   "execution_count": 612,
   "metadata": {},
   "outputs": [],
   "source": [
    "from sklearn.neighbors import KNeighborsRegressor\n",
    "clf=KNeighborsRegressor(11)\n",
    "clf.fit(X_train,y_train)\n",
    "clf_train=clf.predict(X_train)\n",
    "clf_test=clf.predict(X_test)"
   ]
  },
  {
   "cell_type": "code",
   "execution_count": 613,
   "metadata": {},
   "outputs": [
    {
     "name": "stdout",
     "output_type": "stream",
     "text": [
      "Predictions (Training Dataset): \n",
      " [ 82.81818182  66.90909091 104.36363636  83.81818182  27.90909091]\n"
     ]
    }
   ],
   "source": [
    "print('Predictions (Training Dataset): \\n', clf_train[0:5])"
   ]
  },
  {
   "cell_type": "code",
   "execution_count": 614,
   "metadata": {},
   "outputs": [
    {
     "name": "stdout",
     "output_type": "stream",
     "text": [
      "Days in Advance to Book: \n",
      " [95.63636364]\n"
     ]
    }
   ],
   "source": [
    "print('Days in Advance to Book: \\n', clf_test)"
   ]
  },
  {
   "cell_type": "code",
   "execution_count": 615,
   "metadata": {},
   "outputs": [
    {
     "name": "stdout",
     "output_type": "stream",
     "text": [
      "Accuracy Score: \n",
      " 29.542385186620233 %\n"
     ]
    }
   ],
   "source": [
    "clfscore=clf.score(X_train,y_train)\n",
    "print ('Accuracy Score: \\n', clfscore*100,'%')"
   ]
  },
  {
   "cell_type": "markdown",
   "metadata": {},
   "source": [
    "## Logistic Regression "
   ]
  },
  {
   "cell_type": "code",
   "execution_count": 616,
   "metadata": {},
   "outputs": [
    {
     "name": "stderr",
     "output_type": "stream",
     "text": [
      "C:\\Users\\The Pock Family\\Anaconda3\\lib\\site-packages\\sklearn\\linear_model\\logistic.py:433: FutureWarning: Default solver will be changed to 'lbfgs' in 0.22. Specify a solver to silence this warning.\n",
      "  FutureWarning)\n",
      "C:\\Users\\The Pock Family\\Anaconda3\\lib\\site-packages\\sklearn\\linear_model\\logistic.py:460: FutureWarning: Default multi_class will be changed to 'auto' in 0.22. Specify the multi_class option to silence this warning.\n",
      "  \"this warning.\", FutureWarning)\n"
     ]
    }
   ],
   "source": [
    "# import the class\n",
    "from sklearn.linear_model import LogisticRegression\n",
    "\n",
    "# instantiate the model (using the default parameters)\n",
    "logreg = LogisticRegression()\n",
    "\n",
    "# fit the model with data\n",
    "logreg.fit(X_train,y_train)\n",
    "\n",
    "#\n",
    "logreg_train=logreg.predict(X_train)\n",
    "logreg_test=logreg.predict(X_test)"
   ]
  },
  {
   "cell_type": "code",
   "execution_count": 617,
   "metadata": {},
   "outputs": [
    {
     "name": "stdout",
     "output_type": "stream",
     "text": [
      "Predictions (Training Dataset): \n",
      " [  4   5 169 161   4]\n"
     ]
    }
   ],
   "source": [
    "print('Predictions (Training Dataset): \\n', logreg_train[0:5])"
   ]
  },
  {
   "cell_type": "code",
   "execution_count": 618,
   "metadata": {},
   "outputs": [
    {
     "name": "stdout",
     "output_type": "stream",
     "text": [
      "Days in Advance to Book: \n",
      " [105]\n"
     ]
    }
   ],
   "source": [
    "print('Days in Advance to Book: \\n', logreg_test)"
   ]
  },
  {
   "cell_type": "code",
   "execution_count": 619,
   "metadata": {},
   "outputs": [
    {
     "name": "stdout",
     "output_type": "stream",
     "text": [
      "Accuracy Score: \n",
      " 1.3596491228070176 %\n"
     ]
    }
   ],
   "source": [
    "logscore=logreg.score(X_train,y_train)\n",
    "print ('Accuracy Score: \\n', logscore*100,'%')"
   ]
  },
  {
   "cell_type": "markdown",
   "metadata": {},
   "source": [
    "## Creating a GUI"
   ]
  },
  {
   "cell_type": "code",
   "execution_count": 620,
   "metadata": {},
   "outputs": [],
   "source": [
    "# List of Regression models (When running this GUI, be sure to choose the correct model.)\n",
    "# lm = linear regression\n",
    "# tree-reg = decision tree regression\n",
    "# forest_reg = Random Forest regression\n",
    "# svrmodel = Support Vector Regression\n",
    "# clf = K-Nearest Neigbor Regression\n",
    "# logreg = logistic Regression\n",
    "\n",
    "# poly = polynomial *Currently not working"
   ]
  },
  {
   "cell_type": "code",
   "execution_count": 621,
   "metadata": {},
   "outputs": [],
   "source": [
    "# tkinter GUI\n",
    "root= tk.Tk() \n",
    "root.title(\"When to Buy Airfare for ATL to DTW\")\n",
    "canvas1 = tk.Canvas(root, width = 1300, height = 450)\n",
    "canvas1.pack()\n"
   ]
  },
  {
   "cell_type": "code",
   "execution_count": 622,
   "metadata": {},
   "outputs": [
    {
     "data": {
      "text/plain": [
       "2"
      ]
     },
     "execution_count": 622,
     "metadata": {},
     "output_type": "execute_result"
    }
   ],
   "source": [
    "# New_Price label and input box\n",
    "label1 = tk.Label(root, text='Type Price (0: Cheapest, 1: Expensive):')\n",
    "canvas1.create_window(500, 100, window=label1)\n",
    "entry1 = tk.Entry (root) # create 1st entry box\n",
    "canvas1.create_window(840, 100, window=entry1)"
   ]
  },
  {
   "cell_type": "code",
   "execution_count": 623,
   "metadata": {},
   "outputs": [
    {
     "data": {
      "text/plain": [
       "4"
      ]
     },
     "execution_count": 623,
     "metadata": {},
     "output_type": "execute_result"
    }
   ],
   "source": [
    "# New_Time label and input box\n",
    "label2 = tk.Label(root, text='Type Time of Departure (0: Morning, 1: Afternoon, 2: Evening):')\n",
    "canvas1.create_window(500, 120, window=label2)\n",
    "\n",
    "entry2 = tk.Entry (root) # create 2nd entry box\n",
    "canvas1.create_window(840, 120, window=entry2)"
   ]
  },
  {
   "cell_type": "code",
   "execution_count": 624,
   "metadata": {},
   "outputs": [
    {
     "data": {
      "text/plain": [
       "6"
      ]
     },
     "execution_count": 624,
     "metadata": {},
     "output_type": "execute_result"
    }
   ],
   "source": [
    "# New_SeatClass label and input box\n",
    "label3 = tk.Label(root, text='Type Seat Class (0: Economy, 1: Afternoon, 2: Evening):')\n",
    "canvas1.create_window(500, 140, window=label3)\n",
    "\n",
    "entry3 = tk.Entry (root) # create 2nd entry box\n",
    "canvas1.create_window(840, 140, window=entry3)"
   ]
  },
  {
   "cell_type": "code",
   "execution_count": 625,
   "metadata": {},
   "outputs": [
    {
     "data": {
      "text/plain": [
       "8"
      ]
     },
     "execution_count": 625,
     "metadata": {},
     "output_type": "execute_result"
    }
   ],
   "source": [
    "# New_RoundTrip and input box\n",
    "label4 = tk.Label(root, text='Type Roundtrip (0: False, 1: True):')\n",
    "canvas1.create_window(500, 160, window=label4)\n",
    "\n",
    "entry4 = tk.Entry (root) # create 2nd entry box\n",
    "canvas1.create_window(840, 160, window=entry4)"
   ]
  },
  {
   "cell_type": "code",
   "execution_count": 626,
   "metadata": {},
   "outputs": [
    {
     "data": {
      "text/plain": [
       "9"
      ]
     },
     "execution_count": 626,
     "metadata": {},
     "output_type": "execute_result"
    }
   ],
   "source": [
    "def values(): \n",
    "    global New_Price #our 1st input variable\n",
    "    New_Price = float(entry1.get()) \n",
    "    \n",
    "    global New_Time #our 2nd input variable\n",
    "    New_Time = float(entry2.get()) \n",
    "    \n",
    "    global New_SeatClass #our 3nd input variable\n",
    "    New_SeatClass = float(entry3.get()) \n",
    "    \n",
    "    global New_RoundTrip #our 4th input variable\n",
    "    New_RoundTrip = float(entry4.get()) \n",
    "    \n",
    "    Input = [[New_RoundTrip, New_SeatClass, New_Time,  New_Price]]\n",
    "    \n",
    "    #In the next line, choose which model you want to use for GUI\n",
    "    Prediction_result  = ('Predicted Days in Advance to Buy: ', logreg.predict(Input))\n",
    "    label_Prediction = tk.Label(root, text= Prediction_result, bg='orange')\n",
    "    canvas1.create_window(760, 280, window=label_Prediction)\n",
    "    \n",
    "button1 = tk.Button (root, text='Predict',command=values, bg='orange') # button to call the 'values' command above \n",
    "canvas1.create_window(840, 200, window=button1)"
   ]
  },
  {
   "cell_type": "code",
   "execution_count": null,
   "metadata": {},
   "outputs": [],
   "source": [
    "root.mainloop()"
   ]
  },
  {
   "cell_type": "code",
   "execution_count": null,
   "metadata": {},
   "outputs": [],
   "source": []
  }
 ],
 "metadata": {
  "kernelspec": {
   "display_name": "Python 3",
   "language": "python",
   "name": "python3"
  },
  "language_info": {
   "codemirror_mode": {
    "name": "ipython",
    "version": 3
   },
   "file_extension": ".py",
   "mimetype": "text/x-python",
   "name": "python",
   "nbconvert_exporter": "python",
   "pygments_lexer": "ipython3",
   "version": "3.6.8"
  }
 },
 "nbformat": 4,
 "nbformat_minor": 2
}
